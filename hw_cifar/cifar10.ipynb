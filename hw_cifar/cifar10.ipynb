{
 "cells": [
  {
   "cell_type": "code",
   "execution_count": 1,
   "metadata": {},
   "outputs": [],
   "source": [
    "import numpy as np\n",
    "import tensorflow as tf\n",
    "from tensorflow import keras\n",
    "from keras.models import Sequential\n",
    "from keras.layers import Dense, Dropout, Flatten, BatchNormalization, Activation\n",
    "from keras.layers.convolutional import Conv2D, MaxPooling2D\n",
    "from keras.constraints import maxnorm\n",
    "from keras.utils import np_utils"
   ]
  },
  {
   "cell_type": "code",
   "execution_count": 2,
   "metadata": {},
   "outputs": [],
   "source": [
    "#set random seed for purposes of reproducibility\n",
    "seed = 21"
   ]
  },
  {
   "cell_type": "markdown",
   "metadata": {},
   "source": [
    "Preparation of data"
   ]
  },
  {
   "cell_type": "code",
   "execution_count": 3,
   "metadata": {},
   "outputs": [],
   "source": [
    "from keras.datasets import cifar10"
   ]
  },
  {
   "cell_type": "code",
   "execution_count": 4,
   "metadata": {},
   "outputs": [],
   "source": [
    "(X_train, y_train), (X_test, y_test) = cifar10.load_data()"
   ]
  },
  {
   "cell_type": "code",
   "execution_count": 5,
   "metadata": {},
   "outputs": [],
   "source": [
    "#normalize the inpust from 0-255 to between 0 and 1 by dividing by 255\n",
    "X_train = X_train.astype('float32')\n",
    "X_test = X_test.astype('float32')\n",
    "X_train = X_train / 255.0\n",
    "X_test = X_test / 255.0"
   ]
  },
  {
   "cell_type": "code",
   "execution_count": 6,
   "metadata": {},
   "outputs": [],
   "source": [
    "y_train = np_utils.to_categorical(y_train)\n",
    "y_test = np_utils.to_categorical(y_test)\n",
    "class_num = y_test.shape[1]"
   ]
  },
  {
   "cell_type": "markdown",
   "metadata": {},
   "source": [
    "Creating model"
   ]
  },
  {
   "cell_type": "code",
   "execution_count": 7,
   "metadata": {},
   "outputs": [],
   "source": [
    "model = Sequential()"
   ]
  },
  {
   "cell_type": "code",
   "execution_count": 8,
   "metadata": {},
   "outputs": [],
   "source": [
    "model.add(Conv2D(32, (3, 3), input_shape = X_train.shape[1:], padding = 'same'))\n",
    "model.add(Activation('relu'))"
   ]
  },
  {
   "cell_type": "code",
   "execution_count": 9,
   "metadata": {},
   "outputs": [],
   "source": [
    "model.add(Dropout(0.2)) #to avoid overfitting"
   ]
  },
  {
   "cell_type": "code",
   "execution_count": 10,
   "metadata": {},
   "outputs": [],
   "source": [
    "model.add(BatchNormalization())"
   ]
  },
  {
   "cell_type": "code",
   "execution_count": 11,
   "metadata": {},
   "outputs": [],
   "source": [
    "model.add(Conv2D(64, (3, 3), padding = 'same'))\n",
    "model.add(Activation('relu'))"
   ]
  },
  {
   "cell_type": "code",
   "execution_count": 12,
   "metadata": {},
   "outputs": [],
   "source": [
    "#объединяющий слой\n",
    "model.add(MaxPooling2D(pool_size = (2, 2)))\n",
    "model.add(Dropout(0.2))\n",
    "model.add(BatchNormalization())"
   ]
  },
  {
   "cell_type": "code",
   "execution_count": 13,
   "metadata": {},
   "outputs": [],
   "source": [
    "model.add(Conv2D(64, (3, 3), padding = 'same'))\n",
    "model.add(Activation('relu'))\n",
    "model.add(MaxPooling2D(pool_size = (2, 2)))\n",
    "model.add(Dropout(0.2))\n",
    "model.add(BatchNormalization())\n",
    "\n",
    "model.add(Conv2D(128, (3, 3), padding = 'same'))\n",
    "model.add(Activation('relu'))\n",
    "model.add(Dropout(0.2))\n",
    "model.add(BatchNormalization())"
   ]
  },
  {
   "cell_type": "code",
   "execution_count": 14,
   "metadata": {},
   "outputs": [],
   "source": [
    "model.add(Flatten())\n",
    "model.add(Dropout(0.2))"
   ]
  },
  {
   "cell_type": "code",
   "execution_count": 15,
   "metadata": {},
   "outputs": [],
   "source": [
    "model.add(Dense(256, kernel_constraint = maxnorm(3)))\n",
    "model.add(Activation('relu'))\n",
    "model.add(Dropout(0.2))\n",
    "model.add(BatchNormalization())\n",
    "model.add(Dense(128, kernel_constraint = maxnorm(3)))\n",
    "model.add(Activation('relu'))\n",
    "model.add(Dropout(0.2))\n",
    "model.add(BatchNormalization())"
   ]
  },
  {
   "cell_type": "code",
   "execution_count": 16,
   "metadata": {},
   "outputs": [],
   "source": [
    "model.add(Dense(class_num))\n",
    "model.add(Activation('softmax'))"
   ]
  },
  {
   "cell_type": "code",
   "execution_count": 17,
   "metadata": {},
   "outputs": [],
   "source": [
    "epochs = 25\n",
    "optimizer = 'adam'"
   ]
  },
  {
   "cell_type": "code",
   "execution_count": 18,
   "metadata": {},
   "outputs": [],
   "source": [
    "model.compile(loss = 'categorical_crossentropy', optimizer = optimizer, metrics = ['accuracy'])"
   ]
  },
  {
   "cell_type": "code",
   "execution_count": 19,
   "metadata": {
    "scrolled": false
   },
   "outputs": [
    {
     "name": "stdout",
     "output_type": "stream",
     "text": [
      "Model: \"sequential\"\n",
      "_________________________________________________________________\n",
      "Layer (type)                 Output Shape              Param #   \n",
      "=================================================================\n",
      "conv2d (Conv2D)              (None, 32, 32, 32)        896       \n",
      "_________________________________________________________________\n",
      "activation (Activation)      (None, 32, 32, 32)        0         \n",
      "_________________________________________________________________\n",
      "dropout (Dropout)            (None, 32, 32, 32)        0         \n",
      "_________________________________________________________________\n",
      "batch_normalization (BatchNo (None, 32, 32, 32)        128       \n",
      "_________________________________________________________________\n",
      "conv2d_1 (Conv2D)            (None, 32, 32, 64)        18496     \n",
      "_________________________________________________________________\n",
      "activation_1 (Activation)    (None, 32, 32, 64)        0         \n",
      "_________________________________________________________________\n",
      "max_pooling2d (MaxPooling2D) (None, 16, 16, 64)        0         \n",
      "_________________________________________________________________\n",
      "dropout_1 (Dropout)          (None, 16, 16, 64)        0         \n",
      "_________________________________________________________________\n",
      "batch_normalization_1 (Batch (None, 16, 16, 64)        256       \n",
      "_________________________________________________________________\n",
      "conv2d_2 (Conv2D)            (None, 16, 16, 64)        36928     \n",
      "_________________________________________________________________\n",
      "activation_2 (Activation)    (None, 16, 16, 64)        0         \n",
      "_________________________________________________________________\n",
      "max_pooling2d_1 (MaxPooling2 (None, 8, 8, 64)          0         \n",
      "_________________________________________________________________\n",
      "dropout_2 (Dropout)          (None, 8, 8, 64)          0         \n",
      "_________________________________________________________________\n",
      "batch_normalization_2 (Batch (None, 8, 8, 64)          256       \n",
      "_________________________________________________________________\n",
      "conv2d_3 (Conv2D)            (None, 8, 8, 128)         73856     \n",
      "_________________________________________________________________\n",
      "activation_3 (Activation)    (None, 8, 8, 128)         0         \n",
      "_________________________________________________________________\n",
      "dropout_3 (Dropout)          (None, 8, 8, 128)         0         \n",
      "_________________________________________________________________\n",
      "batch_normalization_3 (Batch (None, 8, 8, 128)         512       \n",
      "_________________________________________________________________\n",
      "flatten (Flatten)            (None, 8192)              0         \n",
      "_________________________________________________________________\n",
      "dropout_4 (Dropout)          (None, 8192)              0         \n",
      "_________________________________________________________________\n",
      "dense (Dense)                (None, 256)               2097408   \n",
      "_________________________________________________________________\n",
      "activation_4 (Activation)    (None, 256)               0         \n",
      "_________________________________________________________________\n",
      "dropout_5 (Dropout)          (None, 256)               0         \n",
      "_________________________________________________________________\n",
      "batch_normalization_4 (Batch (None, 256)               1024      \n",
      "_________________________________________________________________\n",
      "dense_1 (Dense)              (None, 128)               32896     \n",
      "_________________________________________________________________\n",
      "activation_5 (Activation)    (None, 128)               0         \n",
      "_________________________________________________________________\n",
      "dropout_6 (Dropout)          (None, 128)               0         \n",
      "_________________________________________________________________\n",
      "batch_normalization_5 (Batch (None, 128)               512       \n",
      "_________________________________________________________________\n",
      "dense_2 (Dense)              (None, 10)                1290      \n",
      "_________________________________________________________________\n",
      "activation_6 (Activation)    (None, 10)                0         \n",
      "=================================================================\n",
      "Total params: 2,264,458\n",
      "Trainable params: 2,263,114\n",
      "Non-trainable params: 1,344\n",
      "_________________________________________________________________\n",
      "None\n"
     ]
    }
   ],
   "source": [
    "print(model.summary())"
   ]
  },
  {
   "cell_type": "markdown",
   "metadata": {},
   "source": [
    "Training"
   ]
  },
  {
   "cell_type": "code",
   "execution_count": 20,
   "metadata": {},
   "outputs": [
    {
     "name": "stdout",
     "output_type": "stream",
     "text": [
      "Epoch 1/25\n",
      "782/782 [==============================] - 248s 318ms/step - loss: 1.5111 - accuracy: 0.4656 - val_loss: 1.3572 - val_accuracy: 0.5200\n",
      "Epoch 2/25\n",
      "782/782 [==============================] - 223s 285ms/step - loss: 1.0308 - accuracy: 0.6345 - val_loss: 0.8627 - val_accuracy: 0.6943\n",
      "Epoch 3/25\n",
      "782/782 [==============================] - 226s 289ms/step - loss: 0.8591 - accuracy: 0.6967 - val_loss: 0.8636 - val_accuracy: 0.6996\n",
      "Epoch 4/25\n",
      "782/782 [==============================] - 224s 287ms/step - loss: 0.7645 - accuracy: 0.7318 - val_loss: 0.6916 - val_accuracy: 0.7629\n",
      "Epoch 5/25\n",
      "782/782 [==============================] - 226s 289ms/step - loss: 0.7075 - accuracy: 0.7528 - val_loss: 0.6882 - val_accuracy: 0.7606\n",
      "Epoch 6/25\n",
      "782/782 [==============================] - 236s 302ms/step - loss: 0.6618 - accuracy: 0.7685 - val_loss: 0.6590 - val_accuracy: 0.7731\n",
      "Epoch 7/25\n",
      "782/782 [==============================] - 236s 302ms/step - loss: 0.6281 - accuracy: 0.7823 - val_loss: 0.6450 - val_accuracy: 0.7796\n",
      "Epoch 8/25\n",
      "782/782 [==============================] - 245s 313ms/step - loss: 0.6021 - accuracy: 0.7900 - val_loss: 0.6050 - val_accuracy: 0.7878\n",
      "Epoch 9/25\n",
      "782/782 [==============================] - 231s 295ms/step - loss: 0.5805 - accuracy: 0.7975 - val_loss: 0.6087 - val_accuracy: 0.7875\n",
      "Epoch 10/25\n",
      "782/782 [==============================] - 226s 289ms/step - loss: 0.5615 - accuracy: 0.8038 - val_loss: 0.6330 - val_accuracy: 0.7791\n",
      "Epoch 11/25\n",
      "782/782 [==============================] - 227s 291ms/step - loss: 0.5386 - accuracy: 0.8106 - val_loss: 0.5694 - val_accuracy: 0.8032\n",
      "Epoch 12/25\n",
      "782/782 [==============================] - 228s 291ms/step - loss: 0.5241 - accuracy: 0.8164 - val_loss: 0.5726 - val_accuracy: 0.8024\n",
      "Epoch 13/25\n",
      "782/782 [==============================] - 227s 291ms/step - loss: 0.5082 - accuracy: 0.8213 - val_loss: 0.6445 - val_accuracy: 0.7793\n",
      "Epoch 14/25\n",
      "782/782 [==============================] - 227s 290ms/step - loss: 0.5035 - accuracy: 0.8247 - val_loss: 0.5329 - val_accuracy: 0.8177\n",
      "Epoch 15/25\n",
      "782/782 [==============================] - 227s 290ms/step - loss: 0.4829 - accuracy: 0.8311 - val_loss: 0.5595 - val_accuracy: 0.8106\n",
      "Epoch 16/25\n",
      "782/782 [==============================] - 228s 291ms/step - loss: 0.4778 - accuracy: 0.8336 - val_loss: 0.5187 - val_accuracy: 0.8233\n",
      "Epoch 17/25\n",
      "782/782 [==============================] - 231s 295ms/step - loss: 0.4680 - accuracy: 0.8354 - val_loss: 0.6226 - val_accuracy: 0.7897\n",
      "Epoch 18/25\n",
      "782/782 [==============================] - 225s 288ms/step - loss: 0.4624 - accuracy: 0.8371 - val_loss: 0.5107 - val_accuracy: 0.8282\n",
      "Epoch 19/25\n",
      "782/782 [==============================] - 226s 288ms/step - loss: 0.4531 - accuracy: 0.8418 - val_loss: 0.5272 - val_accuracy: 0.8208\n",
      "Epoch 20/25\n",
      "782/782 [==============================] - 243s 310ms/step - loss: 0.4472 - accuracy: 0.8434 - val_loss: 0.5218 - val_accuracy: 0.8252\n",
      "Epoch 21/25\n",
      "782/782 [==============================] - 225s 288ms/step - loss: 0.4371 - accuracy: 0.8472 - val_loss: 0.4902 - val_accuracy: 0.8334\n",
      "Epoch 22/25\n",
      "782/782 [==============================] - 226s 289ms/step - loss: 0.4321 - accuracy: 0.8484 - val_loss: 0.5284 - val_accuracy: 0.8226\n",
      "Epoch 23/25\n",
      "782/782 [==============================] - 224s 287ms/step - loss: 0.4261 - accuracy: 0.8515 - val_loss: 0.5846 - val_accuracy: 0.8039\n",
      "Epoch 24/25\n",
      "782/782 [==============================] - 228s 291ms/step - loss: 0.4208 - accuracy: 0.8533 - val_loss: 0.5247 - val_accuracy: 0.8236\n",
      "Epoch 25/25\n",
      "782/782 [==============================] - 226s 289ms/step - loss: 0.4182 - accuracy: 0.8535 - val_loss: 0.5405 - val_accuracy: 0.8178\n"
     ]
    },
    {
     "data": {
      "text/plain": [
       "<tensorflow.python.keras.callbacks.History at 0x2078bcfc0a0>"
      ]
     },
     "execution_count": 20,
     "metadata": {},
     "output_type": "execute_result"
    }
   ],
   "source": [
    "np.random.seed(seed)\n",
    "model.fit(X_train, y_train, validation_data=(X_test, y_test), epochs = epochs, batch_size = 64)"
   ]
  },
  {
   "cell_type": "markdown",
   "metadata": {},
   "source": [
    "Model evaluation"
   ]
  },
  {
   "cell_type": "code",
   "execution_count": 21,
   "metadata": {},
   "outputs": [
    {
     "name": "stdout",
     "output_type": "stream",
     "text": [
      "Accuracy: 81.78%\n"
     ]
    }
   ],
   "source": [
    "scores = model.evaluate(X_test, y_test, verbose = 0)\n",
    "print('Accuracy: %.2f%%' % (scores[1] * 100))"
   ]
  }
 ],
 "metadata": {
  "kernelspec": {
   "display_name": "Python 3",
   "language": "python",
   "name": "python3"
  },
  "language_info": {
   "codemirror_mode": {
    "name": "ipython",
    "version": 3
   },
   "file_extension": ".py",
   "mimetype": "text/x-python",
   "name": "python",
   "nbconvert_exporter": "python",
   "pygments_lexer": "ipython3",
   "version": "3.8.3"
  }
 },
 "nbformat": 4,
 "nbformat_minor": 4
}
