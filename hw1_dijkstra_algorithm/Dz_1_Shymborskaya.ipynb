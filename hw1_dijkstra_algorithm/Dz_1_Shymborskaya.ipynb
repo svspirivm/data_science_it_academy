{
 "cells": [
  {
   "cell_type": "markdown",
   "metadata": {
    "id": "TRZhSa7PIm_F"
   },
   "source": [
    "# Условие задачи:\n",
    "\n",
    "На карте Беларуси имеется N городов, каждый с каждым связывает дорога определенной протяженности. Напишите функцию на языке “Python” нахождения ближайшего маршрута из двух городов случайно выбранных из N. \n",
    "Матрица расстояний задается случайным образом.\n",
    "\n"
   ]
  },
  {
   "cell_type": "markdown",
   "metadata": {
    "id": "ezvSBfHxJb22"
   },
   "source": [
    "# Решение:\n",
    "Используем алгоритм Дейкстры, учитывая, что если из города A можно попасть в город В, то и из города В можно попасть в город А. Следовательно, исходная матрица расстояний будет симметрической. Диагольньные элементы будут нулевыми, поскольку расстояние от города А до города А равно нулю."
   ]
  },
  {
   "cell_type": "code",
   "execution_count": 1,
   "metadata": {
    "id": "3PYN0E0GIJqS"
   },
   "outputs": [],
   "source": [
    "import numpy as np\n",
    "\n",
    "def createRandomMatrix( number_of_cities ):\n",
    "    \"\"\" Generates symmetrical matrix of distances with random values.\n",
    "        Values of diagonal elements are zeros. \n",
    "        Values of other elements are up to 650 'cause it's the width \n",
    "        of the given country. Distance can't have negative value.\n",
    "    \"\"\"\n",
    "    matrix = np.random.randint(0, 650, size=( number_of_cities, number_of_cities )) #the matrix is generated\n",
    "    symmetrical_matrix = ( matrix + matrix.T )/2                                    #make it symmetrical\n",
    "    np.fill_diagonal(symmetrical_matrix, 0)                                         #fill diagonal  with zeros\n",
    "    return symmetrical_matrix"
   ]
  },
  {
   "cell_type": "markdown",
   "metadata": {
    "id": "kK1Ck-ZOp95a"
   },
   "source": [
    "Проверим работоспособность метода:"
   ]
  },
  {
   "cell_type": "code",
   "execution_count": 2,
   "metadata": {
    "colab": {
     "base_uri": "https://localhost:8080/",
     "height": 101
    },
    "id": "fDz29DT6cUGY",
    "outputId": "5a527185-da16-493c-80ca-5a9e553f3393"
   },
   "outputs": [
    {
     "data": {
      "text/plain": [
       "array([[  0. , 270. , 246.5, 210.5, 415. ],\n",
       "       [270. ,   0. , 252. , 209.5, 421. ],\n",
       "       [246.5, 252. ,   0. , 335. , 491.5],\n",
       "       [210.5, 209.5, 335. ,   0. , 148.5],\n",
       "       [415. , 421. , 491.5, 148.5,   0. ]])"
      ]
     },
     "execution_count": 2,
     "metadata": {},
     "output_type": "execute_result"
    }
   ],
   "source": [
    "a = createRandomMatrix( 5 )\n",
    "a"
   ]
  },
  {
   "cell_type": "markdown",
   "metadata": {
    "id": "F9vm5NcdqOvC"
   },
   "source": [
    "Реализуем теперь сам алгоритм:"
   ]
  },
  {
   "cell_type": "code",
   "execution_count": 3,
   "metadata": {
    "id": "Pr24m81np8EX"
   },
   "outputs": [],
   "source": [
    "def shortestRoute( matrix_of_distances, first_city, second_city ):\n",
    "    \"\"\" Using symmetrical_matrix of distances and given cities in range [1, degree_of_matrix] \n",
    "        and calculates the shortest distance from the 1st to the 2nd city.\n",
    "        Returns route and total distance\n",
    "    \"\"\"\n",
    "\n",
    "    first_city -= 1                                      #decrement number of city to make it from zero\n",
    "    second_city -= 1\n",
    "\n",
    "    infinity = 10 ** 10                                  #value that will be instead of actial infinity in our algorithm\n",
    "    distances = [infinity] * len(matrix_of_distances)    #array of distances from first city to other cities\n",
    "    distances[first_city] = 0                            #distance between first city and first city is obviously zero\n",
    "    current_vertex = first_city                          #we start algorithm from the first point of the route\n",
    "    minimal_distance = 0                                 #default minimal distance\n",
    "    route = [i for i in range(len(matrix_of_distances))] #we will use this array to create final route\n",
    "    result_route = [second_city + 1]                     #the shortest route. consists of numbers of cities in order we need to visit them to get to the second city\n",
    "    visited = [False] * len(matrix_of_distances)         #this array shows whether city was visited\n",
    "\n",
    "    while not visited[second_city]:                      #in case first city equals second city\n",
    "        visited[current_vertex] = True\n",
    "        if current_vertex == second_city:                #the cycle will work until we'll reach the destination\n",
    "            break\n",
    "        for i in range( len(matrix_of_distances) ):      #it's the actual step of algorithm. we calculate distance from one point to others\n",
    "            if distances[current_vertex] + matrix_of_distances[current_vertex][i] < distances[i] and matrix_of_distances[current_vertex][i] != 0 and not visited[i] and i > 0:\n",
    "                distances[i] = distances[current_vertex] + matrix_of_distances[current_vertex][i]\n",
    "                route[i] = current_vertex                #here we add points to make actual route below\n",
    "        tmp = []                                         #temporary array to figure out the smallest distance\n",
    "        for i in range( len(distances) ):                #here we create this temporary array and don't iclude already visited items\n",
    "            if not visited[i]:\n",
    "                tmp.append(distances[i])\n",
    "        minimal_distance = np.min(tmp)                                              #then we calculate minimal distance\n",
    "        current_vertex = distances.index(minimal_distance)                          #now we find the index of the closest city\n",
    "        while visited[current_vertex]:\n",
    "            current_vertex = distances.index(minimal_distance, current_vertex + 1)  #here we check the value in case it has already been visited and minimal_distance equals to\n",
    "                                                                                    #distance of already visited item. otherwise this while-cycle will be infinite\n",
    "    vertex = second_city                      #here we reconstruct the shortest route                          \n",
    "    while vertex != first_city:\n",
    "        vertex = route[vertex]\n",
    "        result_route.append(vertex + 1)\n",
    "    result_route = result_route[::-1]\n",
    "    total_distance = distances[second_city]   #from array of distances we can get the shortest distance between the first and teh second city\n",
    "    return result_route, total_distance"
   ]
  },
  {
   "cell_type": "markdown",
   "metadata": {
    "id": "4QjPH3RkMQJ7"
   },
   "source": [
    "Пример работы функции. Здесь использована не сгенерированная случайная матрица, а своя (для удобства проверки)."
   ]
  },
  {
   "cell_type": "code",
   "execution_count": 4,
   "metadata": {
    "colab": {
     "base_uri": "https://localhost:8080/",
     "height": 34
    },
    "id": "fQz-duBHidJB",
    "outputId": "0a4a27b9-32be-41eb-ba23-92f8326986ba"
   },
   "outputs": [
    {
     "data": {
      "text/plain": [
       "([1, 3, 6, 5], 20)"
      ]
     },
     "execution_count": 4,
     "metadata": {},
     "output_type": "execute_result"
    }
   ],
   "source": [
    "test = [[0, 7, 9, 0, 0, 14],\n",
    "     [7, 0, 10, 15, 0, 0],\n",
    "     [9, 10, 0, 11, 0, 2],\n",
    "     [0, 15, 11, 0, 6, 0],\n",
    "     [0, 0, 0, 6, 0, 9],\n",
    "     [14, 0, 2, 0, 9, 0]]\n",
    "\n",
    "shortestRoute(test, 1, 5)"
   ]
  },
  {
   "cell_type": "markdown",
   "metadata": {
    "id": "tuSsmTAxMrVN"
   },
   "source": [
    "Пример работы функции на сгенерированной матрице."
   ]
  },
  {
   "cell_type": "code",
   "execution_count": 5,
   "metadata": {
    "colab": {
     "base_uri": "https://localhost:8080/",
     "height": 34
    },
    "id": "KDAn0vz5MfN_",
    "outputId": "05c115f7-7da7-412d-ea83-a5c4f37bca57"
   },
   "outputs": [
    {
     "data": {
      "text/plain": [
       "([1, 4, 5], 359.0)"
      ]
     },
     "execution_count": 5,
     "metadata": {},
     "output_type": "execute_result"
    }
   ],
   "source": [
    "shortestRoute(a, 1, 5)"
   ]
  }
 ],
 "metadata": {
  "colab": {
   "collapsed_sections": [],
   "name": "Dz_1_Shymborskaya.ipynb",
   "provenance": []
  },
  "kernelspec": {
   "display_name": "Python 3",
   "language": "python",
   "name": "python3"
  },
  "language_info": {
   "codemirror_mode": {
    "name": "ipython",
    "version": 3
   },
   "file_extension": ".py",
   "mimetype": "text/x-python",
   "name": "python",
   "nbconvert_exporter": "python",
   "pygments_lexer": "ipython3",
   "version": "3.8.3"
  }
 },
 "nbformat": 4,
 "nbformat_minor": 1
}
